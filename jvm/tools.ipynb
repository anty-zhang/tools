{
 "cells": [
  {
   "cell_type": "markdown",
   "metadata": {},
   "source": [
    "# 常用排查命令\n",
    "\n",
    "```bash\n",
    "jmap -histo [pid]\n",
    "\n",
    "# 查看堆内存使用状况\n",
    "jmap -heap [pid]\n",
    "\n",
    "# 查看堆栈\n",
    "jstack pid\n",
    "-F\n",
    "-l\n",
    "-m\n",
    "\n",
    "\n",
    "# 查看c堆栈上的allocate\n",
    "pstack\n",
    "pstack [pid] | grep ‘allocate’\n",
    "\n",
    "\n",
    "##\n",
    "jstat -J-Djstat.showUnsupported=true -snap [pid]\n",
    "\n",
    "\n",
    "```"
   ]
  }
 ],
 "metadata": {
  "kernelspec": {
   "display_name": "Python 2",
   "language": "python",
   "name": "python2"
  },
  "language_info": {
   "codemirror_mode": {
    "name": "ipython",
    "version": 2
   },
   "file_extension": ".py",
   "mimetype": "text/x-python",
   "name": "python",
   "nbconvert_exporter": "python",
   "pygments_lexer": "ipython2",
   "version": "2.7.11+"
  }
 },
 "nbformat": 4,
 "nbformat_minor": 0
}
