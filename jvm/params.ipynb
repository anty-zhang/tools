{
 "cells": [
  {
   "cell_type": "markdown",
   "metadata": {},
   "source": [
    "# 参数说明\n",
    "\n",
    "### jvm参数\n",
    "\n",
    "```bash\n",
    "-Xmn  # 新生代\n",
    "\n",
    "\n",
    "\n",
    "```\n",
    "\n",
    "### GC的相关参数\n",
    "\n",
    "```bash\n",
    "-XX:+PrintGCDetails显示GC的详细信息  \n",
    "-XX:+PrintGCApplicationConcurrentTime打印应用执行的时间  \n",
    "-XX:+PrintGCApplicationStoppedTime打印应用被暂停的时间  \n",
    "\n",
    "```\n",
    "\n",
    "\n",
    "### 备注\n",
    "\n",
    "> 注：\":\"后的\"+\"号表示开启此选项,如果是\"-\"号那么表示关闭此选项\n",
    "\n",
    "\n",
    "\n",
    "### spark 配置参数\n",
    "\n",
    "```bash\n",
    "\n",
    "-XX:+UseG1GC -XX:+PrintFlagsFinal -XX:+PrintReferenceGC -verbose:gc -XX:+PrintGCDetails -XX:+PrintGCTimeStamps -XX:+PrintAdaptiveSizePolicy -XX:+UnlockDiagnosticVMOptions -XX:+G1SummarizeConcMark -Xms88g -Xmx88g -XX:InitiatingHeapOccupancyPercent=35 -XX:ConcGCThread=20\n",
    "```"
   ]
  }
 ],
 "metadata": {
  "kernelspec": {
   "display_name": "Python 2",
   "language": "python",
   "name": "python2"
  },
  "language_info": {
   "codemirror_mode": {
    "name": "ipython",
    "version": 2
   },
   "file_extension": ".py",
   "mimetype": "text/x-python",
   "name": "python",
   "nbconvert_exporter": "python",
   "pygments_lexer": "ipython2",
   "version": "2.7.11+"
  }
 },
 "nbformat": 4,
 "nbformat_minor": 0
}
