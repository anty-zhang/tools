{
 "cells": [
  {
   "cell_type": "markdown",
   "metadata": {},
   "source": [
    "# mysql basic\n",
    "\n",
    "\n",
    "\n",
    "### 异常问题\n",
    "\n",
    "\n",
    "- Java读取 Mysql的 datetime类型\n",
    "\n",
    "> 但是在使用ResultSet.getTimestamp()时也不是完全安全的，例如，当数据库中的TIMESTAMP类型的字段值为 '0000-00-00 00:00:00'时， 使用此方法进行读取，会抛出异常：Cannot convert value '0000-00-00 00:00:00' from column 1 to TIMESTAMP，\n",
    "这是因为JDBC不能将'0000-00-00 00:00:00'转化为一个为一个java.sql.Timestamp，\n",
    "在Java中，想创建一个java.util.Date，使其值为 '0000-00-00'也是不可能的，最古老的日期应该是'0001-01-01 00:00:00'。\n",
    "\n",
    "\n",
    "> 解决方法: 在 url中增加 zeroDateTimeBehavior=convertToNull\n",
    "String url = \"jdbc:mysql://10.149.51.80:3306/test?relaxAutoCommit=true&zeroDateTimeBehavior=convertToNull\";\n",
    "\n",
    "\n",
    "\n",
    "\n",
    "\n"
   ]
  },
  {
   "cell_type": "code",
   "execution_count": null,
   "metadata": {
    "collapsed": true
   },
   "outputs": [],
   "source": []
  }
 ],
 "metadata": {
  "kernelspec": {
   "display_name": "Python 2",
   "language": "python",
   "name": "python2"
  },
  "language_info": {
   "codemirror_mode": {
    "name": "ipython",
    "version": 2
   },
   "file_extension": ".py",
   "mimetype": "text/x-python",
   "name": "python",
   "nbconvert_exporter": "python",
   "pygments_lexer": "ipython2",
   "version": "2.7.11+"
  }
 },
 "nbformat": 4,
 "nbformat_minor": 0
}
