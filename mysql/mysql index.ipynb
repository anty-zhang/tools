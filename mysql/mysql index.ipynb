{
 "cells": [
  {
   "cell_type": "markdown",
   "metadata": {},
   "source": [
    "# mysql索引\n",
    "\n",
    "\n",
    "1. varchar长度过长的话,建立索引时需要指定长度\n",
    "    alter table mytable add index test_index (id(15));\n",
    "    \n",
    "2. 建立联合索引采用的左侧匹配规则\n",
    "\n",
    "3. 删除索引,并建立索引\n",
    "\n",
    ">　alter table mytesttable drop index device_ctime_conf_index,add index device_ctime_conf_index (device_id(15),ctime,confidence);\n",
    "\n"
   ]
  }
 ],
 "metadata": {
  "kernelspec": {
   "display_name": "Python 2",
   "language": "python",
   "name": "python2"
  },
  "language_info": {
   "codemirror_mode": {
    "name": "ipython",
    "version": 2
   },
   "file_extension": ".py",
   "mimetype": "text/x-python",
   "name": "python",
   "nbconvert_exporter": "python",
   "pygments_lexer": "ipython2",
   "version": "2.7.10"
  }
 },
 "nbformat": 4,
 "nbformat_minor": 0
}
