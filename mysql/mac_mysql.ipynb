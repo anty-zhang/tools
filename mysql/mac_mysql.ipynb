{
 "cells": [
  {
   "cell_type": "markdown",
   "metadata": {},
   "source": [
    "# mysql\n",
    "\n",
    "```sh\n",
    "# 启动\n",
    "/usr/local/bin/mysql.server start\n",
    "# 停止\n",
    "/usr/local/bin/mysql.server stop\n",
    "# 重启\n",
    "/usr/local/bin/mysql.server restart\n",
    "\n",
    "update  user set authentication_string='xxx' where host = 'localhost' and user='root';\n",
    "\n",
    "\n",
    "```\n",
    "\n"
   ]
  }
 ],
 "metadata": {
  "kernelspec": {
   "display_name": "Python 2",
   "language": "python",
   "name": "python2"
  },
  "language_info": {
   "codemirror_mode": {
    "name": "ipython",
    "version": 2
   },
   "file_extension": ".py",
   "mimetype": "text/x-python",
   "name": "python",
   "nbconvert_exporter": "python",
   "pygments_lexer": "ipython2",
   "version": "2.7.10"
  }
 },
 "nbformat": 4,
 "nbformat_minor": 2
}
